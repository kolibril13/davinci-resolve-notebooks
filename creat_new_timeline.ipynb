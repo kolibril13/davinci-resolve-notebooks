{
 "cells": [
  {
   "cell_type": "code",
   "execution_count": 2,
   "metadata": {},
   "outputs": [
    {
     "name": "stdout",
     "output_type": "stream",
     "text": [
      "Connected to DaVinci Resolve successfully!\n",
      "Current project: blender_nb\n",
      "Available methods in MediaPool object:\n",
      "AddSubFolder\n",
      "AppendToTimeline\n",
      "CreateEmptyTimeline\n",
      "CreateStereoClip\n",
      "CreateTimelineFromClips\n",
      "DeleteClipMattes\n",
      "DeleteClips\n",
      "DeleteFolders\n",
      "DeleteTimelines\n",
      "ExportMetadata\n",
      "GetClipMatteList\n",
      "GetCurrentFolder\n",
      "GetRootFolder\n",
      "GetTimelineMatteList\n",
      "GetUniqueId\n",
      "ImportFolderFromFile\n",
      "ImportMedia\n",
      "ImportTimelineFromFile\n",
      "MoveClips\n",
      "MoveFolders\n",
      "Print\n",
      "RefreshFolders\n",
      "RelinkClips\n",
      "SetCurrentFolder\n",
      "UnlinkClips\n",
      "New timeline created successfully in the MediaPool!\n"
     ]
    }
   ],
   "source": [
    "#!/usr/bin/env python\n",
    "import os\n",
    "import sys\n",
    "\n",
    "# Append the DaVinci Resolve scripting module path\n",
    "sys.path.append('/Library/Application Support/Blackmagic Design/DaVinci Resolve/Developer/Scripting/Modules')\n",
    "import DaVinciResolveScript as dvr_script\n",
    "\n",
    "# Initialize DaVinci Resolve and Fusion\n",
    "resolve = dvr_script.scriptapp(\"Resolve\")\n",
    "fusion = resolve.Fusion()\n",
    "\n",
    "# Check if the connection is successful\n",
    "if resolve:\n",
    "    print(\"Connected to DaVinci Resolve successfully!\")\n",
    "\n",
    "    # Get the current project manager\n",
    "    project_manager = resolve.GetProjectManager()\n",
    "    \n",
    "    if project_manager:\n",
    "        # Get the current project\n",
    "        project = project_manager.GetCurrentProject()\n",
    "        \n",
    "        if project:\n",
    "            print(f\"Current project: {project.GetName()}\")\n",
    "\n",
    "            # Get the MediaPool object\n",
    "            media_pool = project.GetMediaPool()\n",
    "            \n",
    "            if media_pool:\n",
    "                # List available methods in the MediaPool object\n",
    "                media_pool_methods = [method for method in dir(media_pool) if callable(getattr(media_pool, method))]\n",
    "                print(\"Available methods in MediaPool object:\")\n",
    "                for method in media_pool_methods:\n",
    "                    print(method)\n",
    "\n",
    "                # Create a new timeline in the MediaPool\n",
    "                new_timeline = media_pool.CreateEmptyTimeline(\"TestTimeline\")\n",
    "                if new_timeline:\n",
    "                    print(\"New timeline created successfully in the MediaPool!\")\n",
    "                else:\n",
    "                    print(\"Failed to create a new timeline in the MediaPool.\")\n",
    "            else:\n",
    "                print(\"Failed to get the MediaPool.\")\n",
    "        else:\n",
    "            print(\"Failed to get the current project.\")\n",
    "    else:\n",
    "        print(\"Failed to get the project manager.\")\n",
    "else:\n",
    "    print(\"Failed to connect to DaVinci Resolve.\")"
   ]
  },
  {
   "cell_type": "code",
   "execution_count": null,
   "metadata": {},
   "outputs": [],
   "source": []
  },
  {
   "cell_type": "code",
   "execution_count": null,
   "metadata": {},
   "outputs": [],
   "source": []
  }
 ],
 "metadata": {
  "kernelspec": {
   "display_name": ".venv",
   "language": "python",
   "name": "python3"
  },
  "language_info": {
   "codemirror_mode": {
    "name": "ipython",
    "version": 3
   },
   "file_extension": ".py",
   "mimetype": "text/x-python",
   "name": "python",
   "nbconvert_exporter": "python",
   "pygments_lexer": "ipython3",
   "version": "3.12.3"
  }
 },
 "nbformat": 4,
 "nbformat_minor": 2
}
