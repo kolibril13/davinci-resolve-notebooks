{
 "cells": [
  {
   "cell_type": "code",
   "execution_count": 1,
   "metadata": {},
   "outputs": [
    {
     "name": "stdout",
     "output_type": "stream",
     "text": [
      "Current project: hi\n"
     ]
    },
    {
     "data": {
      "text/plain": [
       "False"
      ]
     },
     "execution_count": 1,
     "metadata": {},
     "output_type": "execute_result"
    }
   ],
   "source": [
    "import sys\n",
    "sys.path.append('/Library/Application Support/Blackmagic Design/DaVinci Resolve/Developer/Scripting/Modules')\n",
    "import DaVinciResolveScript as dvr_script\n",
    "\n",
    "resolve = dvr_script.scriptapp(\"Resolve\")\n",
    "\n",
    "projectManager = resolve.GetProjectManager()\n",
    "currentProject = projectManager.GetCurrentProject()\n",
    "media_pool = currentProject.GetMediaPool()\n",
    "\n",
    "currentTimeline = currentProject.GetCurrentTimeline()\n",
    "if currentTimeline is None:\n",
    "    currentTimeline = media_pool.CreateEmptyTimeline(\"MyTimeLine\")\n",
    "\n",
    "print(f\"Current project: {currentProject.GetName()}\")\n",
    "\n",
    "# Define the new resolution\n",
    "sourceWidth = 500\n",
    "sourceHeight = 1000\n",
    "\n",
    "# Update project settings\n",
    "currentProject.SetSetting('timelineResolutionWidth', str(sourceWidth))\n",
    "currentProject.SetSetting('timelineResolutionHeight', str(sourceHeight))\n",
    "\n",
    "# Create a new timeline if necessary\n",
    "if currentTimeline is None:\n",
    "    currentTimeline = media_pool.CreateEmptyTimeline(\"MyTimeLine\")\n",
    "\n",
    "# Update timeline settings\n",
    "currentTimeline.SetSetting('timelineOutputResolutionWidth', str(sourceWidth))\n",
    "currentTimeline.SetSetting('timelineOutputResolutionHeight', str(sourceHeight))\n",
    "currentTimeline.SetSetting('timelineResolutionWidth', str(sourceWidth))\n",
    "currentTimeline.SetSetting('timelineResolutionHeight', str(sourceHeight))\n"
   ]
  }
 ],
 "metadata": {
  "kernelspec": {
   "display_name": ".venv",
   "language": "python",
   "name": "python3"
  },
  "language_info": {
   "codemirror_mode": {
    "name": "ipython",
    "version": 3
   },
   "file_extension": ".py",
   "mimetype": "text/x-python",
   "name": "python",
   "nbconvert_exporter": "python",
   "pygments_lexer": "ipython3",
   "version": "3.12.3"
  }
 },
 "nbformat": 4,
 "nbformat_minor": 2
}
