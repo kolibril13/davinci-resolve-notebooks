{
 "cells": [
  {
   "cell_type": "code",
   "execution_count": 53,
   "id": "34717445-4825-445b-a907-19cd08af727f",
   "metadata": {},
   "outputs": [
    {
     "name": "stdout",
     "output_type": "stream",
     "text": [
      "Current project: hi\n"
     ]
    }
   ],
   "source": [
    "import sys\n",
    "sys.path.append('/Library/Application Support/Blackmagic Design/DaVinci Resolve/Developer/Scripting/Modules')\n",
    "import DaVinciResolveScript as dvr_script\n",
    "\n",
    "resolve = dvr_script.scriptapp(\"Resolve\")\n",
    "\n",
    "projectManager = resolve.GetProjectManager()\n",
    "currentProject = projectManager.GetCurrentProject()\n",
    "media_pool = currentProject.GetMediaPool()\n",
    "\n",
    "currentTimeline = currentProject.GetCurrentTimeline()\n",
    "if currentTimeline is None:\n",
    "    currentTimeline = media_pool.CreateEmptyTimeline(\"MyTimeLine\")\n",
    "\n",
    "print(f\"Current project: {currentProject.GetName()}\")\n"
   ]
  },
  {
   "cell_type": "code",
   "execution_count": 51,
   "id": "b71950a3-a423-4141-8748-034a8a621119",
   "metadata": {},
   "outputs": [
    {
     "name": "stdout",
     "output_type": "stream",
     "text": [
      "Current Color: None\n"
     ]
    }
   ],
   "source": [
    "current_color = text_tool.GetInput(\"Background Green\")\n",
    "print(\"Current Color:\", current_color)"
   ]
  },
  {
   "cell_type": "code",
   "execution_count": 68,
   "id": "e59210d5-b49c-4e97-b63d-ef17ad995b02",
   "metadata": {},
   "outputs": [
    {
     "name": "stdout",
     "output_type": "stream",
     "text": [
      "Settings\tApply Mask Inverted\tMultiply by Mask\tFit Mask\t\tChannel\tLow\tHigh\tClip Black\tClip White\t\tMotion Blur\tQuality\tShutter Angle\tCenter Bias\tSample Spread\tHide Incoming Connections\tGlobal In\tGlobal Out\tProcess Mode\tImage\tWidth\tHeight\tPixel Aspect\tAuto Resolution\tDepth\tSource Color Space\tColor Space Type\tColor Space\tColor Space\tRed Primary\tGreen Primary\tBlue Primary\tWhite Point\tSource Gamma Space\tCurve Type\tGamma Space\tGamma Space\tGamma\tLinear Limit\tLinear Slope\tLog Type\tLog Type\tLock R/G/B\tBlack\tWhite\tSoft Clip (Knee)\tLAD\tMid Value\tFilm Stock Gamma\tConversion Gamma\tBlack\tWhite\tGreen Soft Clip (Knee)\tGreen LAD\tGreen Mid Value\tGreen Film Stock Gamma\tGreen Conversion Gamma\tBlack\tWhite\tBlue Soft Clip (Knee)\tBlue LAD\tBlue Mid Value\tBlue Film Stock Gamma\tBlue Conversion Gamma\tConversion Table\tARRI Log Version\tISO / ASA / EI\tFilm Version\tISO\tS-Log Version\tRemove Curve\tPre-Divide / Post-Multiply\tLayout\tLayout Type\tLayout Center\tLayout Center Z\tLayout Size\tLayout Width\tLayout Height\tLayout Perspective\tFit Characters\tPosition on path\tRotation\tLayout Rotation Order\tLayout Angle X\tLayout Angle Y\tLayout Angle Z\tBackground\tBackground Red\tBackground Green\tBackground Blue\tBackground Alpha\tTransform\tSelect Transform\tLine Spacing\tLine Pivot\tLine Pivot Z\tWord Spacing\tWord Pivot\tWord Pivot Z\tCharacter Spacing\tCharacter Pivot\tCharacter Pivot Z\tRotation\tLine Rotation Order\tLine Angle X\tLine Angle Y\tLine Angle Z\tWord Rotation Order\tWord Angle X\tWord Angle Y\tWord Angle Z\tAdapt Word Width to Angle\tCharacter Rotation Order\tCharacter Angle X\tCharacter Angle Y\tCharacter Angle Z\tAdapt Character Width to Angle\tShear\tLine Shear X\tLine Shear Y\tWord Shear X\tWord Shear Y\tCharacter Shear X\tCharacter Shear Y\tSize\tLine Size X\tLine Size Y\tWord Size X\tWord Size Y\tCharacter Size X\tCharacter Size Y\tShading Elements\tSelect Element\tSelect\tName 1\tEnabled 1\tName 2\tEnabled 2\tName 3\tEnabled 3\tName 4\tEnabled 4\tName 5\tEnabled 5\tName 6\tEnabled 6\tName 7\tEnabled 7\tName 8\tEnabled 8\tSort Elements By\tProperties 1\tOpacity 1\tBlending 1\tAppearance 1\tThickness 1\tAdapt to Perspective 1\tOutside Only 1\tClean Intersections 1\tJoin Style 1\tMiter Limit 1\tLine Style 1\tLevel 1\tExtend Horizontal 1\tExtend Vertical 1\tRound 1\t\tType 1\t\tRed 1\tGreen 1\tBlue 1\tAlpha 1\tImage Source 1\tColor Image 1\tColor File 1\tColor Brush 1\tShading Gradient 1\tImage Sampling 1\tImage Edges 1\t\tShading Mapping 1\tShading Mapping Angle 1\tShading Mapping Size 1\tShading Mapping Aspect 1\tShading Mapping Level 1\tSoftness 1\tSoftness X 1\tSoftness Y 1\tApply Softness to Fill Color 1\tSoftness Glow 1\tSoftness Blend 1\tPosition 1\tPriority 1\tOffset 1\tOffset Z 1\tPivot 1\tPivot Z 1\tRotation 1\tAngle X 1\tAngle Y 1\tAngle Z 1\tShear 1\tShear X 1\tShear Y 1\tSize 1\tSize X 1\tSize Y 1\tClip Characters Behind Camera\tAnti-Aliasing\tRender Path\tText\tStyled Text\tFont\tStyle\tRed 1\tGreen 1\tBlue 1\tAlpha 1\tSize\tCharacter Spacing\tLine Spacing\tVertical Anchor Mode\tVertical Anchor Mode\tVertical Anchor Mode\tV Anchor\tVertical Justification\tVertical Justification\tCenter on Base of First Line\tV Justify\tHorizontal Anchor Mode\tHorizontal Anchor Mode\tHorizontal Anchor Mode\tH Anchor\tHorizontal Justification\tH Justify\tScroll\tScroll position\tDirection\tLine Direction\tStrikeout\tUnderline\tWrite On Start\tWrite On End\tTab Spacing\tSelect Tab\tTab 1 Position\tTab 1 Alignment\tTab 2 Position\tTab 2 Alignment\tTab 3 Position\tTab 3 Alignment\tTab 4 Position\tTab 4 Alignment\tTab 5 Position\tTab 5 Alignment\tTab 6 Position\tTab 6 Alignment\tTab 7 Position\tTab 7 Alignment\tTab 8 Position\tTab 8 Alignment\tAdvanced Controls\tReading Direction\tOrientation\tUnderline Position\tForce Monospaced\tUse Font Kerning\tUse Ligatures\tStyle Can Split Ligatures\tStylistic Set\tFont Features\t\tManual Kerning\tClear Selected\tClear All\tManual Positioning\tClear Selected\tClear All\tInternal\tComments\tComments\tFrame Render Script\tFrame Render Script\tStart Render Scripts\tStart Render Script\tEnd Render Scripts\tEnd Render Script\tEffect Mask\n"
     ]
    }
   ],
   "source": [
    "text_tool = fusion_comp.AddTool(\"TextPlus\")\n",
    "print(\"\\t\".join(x.Name for x in text_tool.GetInputList().values()))"
   ]
  },
  {
   "cell_type": "code",
   "execution_count": 95,
   "id": "91e8b1f3-47ac-4b4e-87ce-266b00a36b49",
   "metadata": {},
   "outputs": [
    {
     "data": {
      "text/plain": [
       "True"
      ]
     },
     "execution_count": 95,
     "metadata": {},
     "output_type": "execute_result"
    }
   ],
   "source": [
    "# Insert Fusion Composition into the timeline\n",
    "obj = currentTimeline.InsertFusionCompositionIntoTimeline()\n",
    "fusion_comp = obj.AddFusionComp()\n",
    "\n",
    "# Add TextPlus tool and set initial text\n",
    "text_tool = fusion_comp.AddTool(\"TextPlus\")\n",
    "text_tool.SetInput(\"StyledText\", \"Hello World\")\n",
    "\n",
    "#for the text\n",
    "text_tool.SetInput(\"Red1\", 0)\n",
    "text_tool.SetInput(\"Green1\", 0)\n",
    "text_tool.SetInput(\"Blue1\", 1)\n",
    "text_tool.SetInput(\"Alpha1\", 1)\n",
    "\n",
    "#for the background\n",
    "text_tool.SetInput(\"Red\", 0)\n",
    "text_tool.SetInput(\"Green\", 1)\n",
    "text_tool.SetInput(\"Blue\", 1)\n",
    "text_tool.SetInput(\"Alpha\", 1)\n",
    "\n",
    "# Set the text size to 0.3\n",
    "text_tool.SetInput(\"Size\", 0.3)\n",
    "\n",
    "# Connect the text tool to MediaOut1\n",
    "media_out_tool = fusion_comp.FindTool(\"MediaOut1\")\n",
    "media_out_tool.ConnectInput(\"Input\", text_tool)"
   ]
  },
  {
   "cell_type": "code",
   "execution_count": 91,
   "id": "6ff59d9c-c593-48c1-bfcd-ec2af0ff5801",
   "metadata": {},
   "outputs": [],
   "source": [
    "\n",
    "\n",
    "# Define a list of 20 pastel colors (RGB tuples)\n",
    "pastel_colors = [\n",
    "    (1.0, 0.875, 0.875),\n",
    "    (0.875, 1.0, 0.875),\n",
    "    (0.875, 0.875, 1.0),\n",
    "    (1.0, 1.0, 0.875),\n",
    "    (0.875, 1.0, 1.0),\n",
    "    (1.0, 0.875, 1.0),\n",
    "    (0.9375, 0.875, 0.875),\n",
    "    (0.875, 0.9375, 0.875),\n",
    "    (0.875, 0.875, 0.9375),\n",
    "    (0.9375, 0.9375, 0.875),\n",
    "    (0.875, 0.9375, 0.9375),\n",
    "    (0.9375, 0.875, 0.9375),\n",
    "    (0.8125, 0.9375, 0.8125),\n",
    "    (0.9375, 0.8125, 0.9375),\n",
    "    (0.96875, 0.9375, 0.8125),\n",
    "    (0.9375, 0.96875, 0.8125),\n",
    "    (0.8125, 0.9375, 0.96875),\n",
    "    (0.96875, 0.8125, 0.9375),\n",
    "    (0.9375, 0.8125, 0.96875),\n",
    "    (0.8125, 0.96875, 0.9375)\n",
    "] \n",
    "\n",
    "# Loop over each color\n",
    "for i, (r, g, b) in enumerate(colors):\n",
    "    # Insert Fusion Composition into the timeline\n",
    "    obj = currentTimeline.InsertFusionCompositionIntoTimeline()\n",
    "    fusion_comp = obj.AddFusionComp()\n",
    "    # Add TextPlus tool and set initial text\n",
    "    text_tool = fusion_comp.AddTool(\"TextPlus\")\n",
    "    text_tool.SetInput(\"StyledText\", f\"Hello World {i+1}\")\n",
    "\n",
    "    # Set the text color using the Shading Elements properties\n",
    "    text_tool.SetInput(\"Red1\", r)\n",
    "    text_tool.SetInput(\"Green1\", g)\n",
    "    text_tool.SetInput(\"Blue1\", b)\n",
    "    text_tool.SetInput(\"Alpha1\", 1)\n",
    "\n",
    "    # Set the text size to 0.3\n",
    "    text_tool.SetInput(\"Size\", 0.1 + 0.01*i)\n",
    "\n",
    "    # Connect the text tool to MediaOut1\n",
    "    media_out_tool = fusion_comp.FindTool(\"MediaOut1\")\n",
    "    media_out_tool.ConnectInput(\"Input\", text_tool)"
   ]
  },
  {
   "cell_type": "code",
   "execution_count": 80,
   "id": "135da9bd-382e-4631-bee7-d69a06d24e94",
   "metadata": {},
   "outputs": [
    {
     "data": {
      "text/plain": [
       "True"
      ]
     },
     "execution_count": 80,
     "metadata": {},
     "output_type": "execute_result"
    }
   ],
   "source": [
    "# Insert Fusion Composition into the timeline\n",
    "obj = currentTimeline.InsertFusionCompositionIntoTimeline()\n",
    "fusion_comp = obj.AddFusionComp()\n",
    "\n",
    "# Add a Background tool and set the color to pastel yellow\n",
    "background_tool = fusion_comp.AddTool(\"Background\")\n",
    "background_tool.SetInput(\"Width\", 1920)  # Set the desired width\n",
    "background_tool.SetInput(\"Height\", 1080)  # Set the desired height\n",
    "background_tool.SetInput(\"Color\", [1, 1, 0.85, 1])  # Pastel yellow (RGBA)\n",
    "\n",
    "# Connect the Background tool to MediaOut1\n",
    "media_out_tool = fusion_comp.FindTool(\"MediaOut1\")\n",
    "media_out_tool.ConnectInput(\"Input\", background_tool)\n"
   ]
  }
 ],
 "metadata": {
  "kernelspec": {
   "display_name": "Python 3 (ipykernel)",
   "language": "python",
   "name": "python3"
  },
  "language_info": {
   "codemirror_mode": {
    "name": "ipython",
    "version": 3
   },
   "file_extension": ".py",
   "mimetype": "text/x-python",
   "name": "python",
   "nbconvert_exporter": "python",
   "pygments_lexer": "ipython3",
   "version": "3.12.3"
  }
 },
 "nbformat": 4,
 "nbformat_minor": 5
}
