{
 "cells": [
  {
   "cell_type": "markdown",
   "metadata": {},
   "source": [
    "# Jupyter + Davinci Resolve\n",
    "\n",
    "1. Add Noise\n",
    "2. Add Text\n",
    "3. Make Text Bigger"
   ]
  },
  {
   "cell_type": "code",
   "execution_count": 10,
   "metadata": {},
   "outputs": [],
   "source": [
    "import sys\n",
    "sys.path.append('/Library/Application Support/Blackmagic Design/DaVinci Resolve/Developer/Scripting/Modules')\n",
    "import DaVinciResolveScript as dvr_script\n",
    "\n",
    "resolve = dvr_script.scriptapp(\"Resolve\")\n",
    "\n",
    "projectManager = resolve.GetProjectManager()\n",
    "currentProject = projectManager.GetCurrentProject()\n",
    "media_pool = currentProject.GetMediaPool()\n",
    "\n",
    "currentTimeline = currentProject.GetCurrentTimeline()\n",
    "if currentTimeline is None:\n",
    "    currentTimeline = media_pool.CreateEmptyTimeline(\"MyTimeLine\")\n",
    "\n",
    "currentTimeline.InsertGeneratorIntoTimeline('Four Color Gradient')\n",
    "currentTimeline.InsertGeneratorIntoTimeline('Solid Color')\n",
    "\n",
    "# Get all clips in the timeline\n",
    "timelineItems = currentTimeline.GetItemListInTrack('Video', 1)\n",
    "\n",
    "# Find the solid color generator\n",
    "solidColorClip = None\n",
    "for item in timelineItems:\n",
    "    if item.GetName() == 'Solid Color':\n",
    "        solidColorClip = item\n",
    "    \n"
   ]
  },
  {
   "cell_type": "markdown",
   "metadata": {},
   "source": []
  },
  {
   "cell_type": "code",
   "execution_count": 11,
   "metadata": {},
   "outputs": [
    {
     "name": "stdout",
     "output_type": "stream",
     "text": [
      "[<BlackmagicFusion.PyRemoteObject object at 0x1200339b0>, <BlackmagicFusion.PyRemoteObject object at 0x1200330b0>, <BlackmagicFusion.PyRemoteObject object at 0x120033ef0>, <BlackmagicFusion.PyRemoteObject object at 0x120033db0>]\n"
     ]
    }
   ],
   "source": [
    "print(timelineItems)\n"
   ]
  },
  {
   "cell_type": "code",
   "execution_count": 12,
   "metadata": {},
   "outputs": [
    {
     "name": "stdout",
     "output_type": "stream",
     "text": [
      "Timeline item (0x0x340843940) [App: 'Resolve' on 127.0.0.1, UUID: 0c63b011-69aa-4cd7-bbf5-fc70d327f5a4]\n"
     ]
    }
   ],
   "source": [
    "print(timelineItems[0])\n"
   ]
  },
  {
   "cell_type": "code",
   "execution_count": 14,
   "metadata": {},
   "outputs": [
    {
     "name": "stdout",
     "output_type": "stream",
     "text": [
      "\n",
      "Type of first item in timelineItems: <class 'BlackmagicFusion.PyRemoteObject'>\n",
      "Attributes and methods of the first item in timelineItems:\n",
      "['AddFlag', 'AddFusionComp', 'AddMarker', 'AddTake', 'AddVersion', 'ApplyArriCdlLut', 'ClearClipColor', 'ClearFlags', 'CopyGrades', 'CreateMagicMask', 'DeleteFusionCompByName', 'DeleteMarkerAtFrame', 'DeleteMarkerByCustomData', 'DeleteMarkersByColor', 'DeleteTakeByIndex', 'DeleteVersionByName', 'ExportFusionComp', 'FinalizeTake', 'GetClipColor', 'GetClipEnabled', 'GetCurrentVersion', 'GetDuration', 'GetEnd', 'GetFlagList', 'GetFlags', 'GetFusionCompByIndex', 'GetFusionCompByName', 'GetFusionCompCount', 'GetFusionCompNameList', 'GetFusionCompNames', 'GetLUT', 'GetLeftOffset', 'GetMarkerByCustomData', 'GetMarkerCustomData', 'GetMarkers', 'GetMediaPoolItem', 'GetName', 'GetNodeLabel', 'GetNumNodes', 'GetProperty', 'GetRightOffset', 'GetSelectedTakeIndex', 'GetStart', 'GetStereoConvergenceValues', 'GetStereoLeftFloatingWindowParams', 'GetStereoRightFloatingWindowParams', 'GetTakeByIndex', 'GetTakesCount', 'GetUniqueId', 'GetVersionNameList', 'GetVersionNames', 'ImportFusionComp', 'LoadBurnInPreset', 'LoadFusionCompByName', 'LoadVersionByName', 'Print', 'RegenerateMagicMask', 'RenameFusionCompByName', 'RenameVersionByName', 'SelectTakeByIndex', 'SetCDL', 'SetClipColor', 'SetClipEnabled', 'SetLUT', 'SetProperty', 'SmartReframe', 'Stabilize', 'UpdateMarkerCustomData', 'UpdateSidecar']\n"
     ]
    }
   ],
   "source": [
    "firstItem = timelineItems[0]\n",
    "print(\"\\nType of first item in timelineItems:\", type(firstItem))\n",
    "print(\"Attributes and methods of the first item in timelineItems:\")\n",
    "print(dir(firstItem))\n"
   ]
  },
  {
   "cell_type": "code",
   "execution_count": null,
   "metadata": {},
   "outputs": [],
   "source": [
    "['AddFlag', 'AddFusionComp', 'AddMarker', 'AddTake', 'AddVersion', 'ApplyArriCdlLut', 'ClearClipColor', 'ClearFlags', 'CopyGrades', 'CreateMagicMask', 'DeleteFusionCompByName', 'DeleteMarkerAtFrame', 'DeleteMarkerByCustomData', 'DeleteMarkersByColor', 'DeleteTakeByIndex', 'DeleteVersionByName', 'ExportFusionComp', 'FinalizeTake', 'GetClipColor', 'GetClipEnabled', 'GetCurrentVersion', 'GetDuration', 'GetEnd', 'GetFlagList', 'GetFlags', 'GetFusionCompByIndex', 'GetFusionCompByName', 'GetFusionCompCount', 'GetFusionCompNameList', 'GetFusionCompNames', 'GetLUT', 'GetLeftOffset', 'GetMarkerByCustomData', 'GetMarkerCustomData', 'GetMarkers', 'GetMediaPoolItem', 'GetName', 'GetNodeLabel', 'GetNumNodes', 'GetProperty', 'GetRightOffset', 'GetSelectedTakeIndex', 'GetStart', 'GetStereoConvergenceValues', 'GetStereoLeftFloatingWindowParams', 'GetStereoRightFloatingWindowParams', 'GetTakeByIndex', 'GetTakesCount', 'GetUniqueId', 'GetVersionNameList', 'GetVersionNames', 'ImportFusionComp', 'LoadBurnInPreset', 'LoadFusionCompByName', 'LoadVersionByName', 'Print', 'RegenerateMagicMask', 'RenameFusionCompByName', 'RenameVersionByName', 'SelectTakeByIndex', 'SetCDL', 'SetClipColor', 'SetClipEnabled', 'SetLUT', 'SetProperty', 'SmartReframe', 'Stabilize', 'UpdateMarkerCustomData', 'UpdateSidecar']"
   ]
  },
  {
   "cell_type": "code",
   "execution_count": 15,
   "metadata": {},
   "outputs": [
    {
     "data": {
      "text/plain": [
       "{'Pan': 0.0,\n",
       " 'Tilt': 0.0,\n",
       " 'ZoomX': 1.0,\n",
       " 'ZoomY': 1.0,\n",
       " 'ZoomGang': True,\n",
       " 'RotationAngle': 0.0,\n",
       " 'AnchorPointX': 0.0,\n",
       " 'AnchorPointY': 0.0,\n",
       " 'Pitch': 0.0,\n",
       " 'Yaw': 0.0,\n",
       " 'FlipX': False,\n",
       " 'FlipY': False,\n",
       " 'CropLeft': 0.0,\n",
       " 'CropRight': 0.0,\n",
       " 'CropTop': 0.0,\n",
       " 'CropBottom': 0.0,\n",
       " 'CropSoftness': 0.0,\n",
       " 'CropRetain': False,\n",
       " 'DynamicZoomEase': 0,\n",
       " 'CompositeMode': 0,\n",
       " 'Opacity': 100.0}"
      ]
     },
     "execution_count": 15,
     "metadata": {},
     "output_type": "execute_result"
    }
   ],
   "source": [
    "firstItem.GetProperty()"
   ]
  },
  {
   "cell_type": "code",
   "execution_count": 17,
   "metadata": {},
   "outputs": [
    {
     "data": {
      "text/plain": [
       "['AddMarker',\n",
       " 'AddTrack',\n",
       " 'ApplyGradeFromDRX',\n",
       " 'ConvertTimelineToStereo',\n",
       " 'CreateCompoundClip',\n",
       " 'CreateFusionClip',\n",
       " 'CreateSubtitlesFromAudio',\n",
       " 'DeleteClips',\n",
       " 'DeleteMarkerAtFrame',\n",
       " 'DeleteMarkerByCustomData',\n",
       " 'DeleteMarkersByColor',\n",
       " 'DeleteTrack',\n",
       " 'DetectSceneCuts',\n",
       " 'DuplicateTimeline',\n",
       " 'Export',\n",
       " 'GetCurrentClipThumbnailImage',\n",
       " 'GetCurrentTimecode',\n",
       " 'GetCurrentVideoItem',\n",
       " 'GetEndFrame',\n",
       " 'GetIsTrackEnabled',\n",
       " 'GetIsTrackLocked',\n",
       " 'GetItemListInTrack',\n",
       " 'GetItemsInTrack',\n",
       " 'GetMarkerByCustomData',\n",
       " 'GetMarkerCustomData',\n",
       " 'GetMarkers',\n",
       " 'GetName',\n",
       " 'GetSetting',\n",
       " 'GetStartFrame',\n",
       " 'GetStartTimecode',\n",
       " 'GetTrackCount',\n",
       " 'GetTrackName',\n",
       " 'GetUniqueId',\n",
       " 'GrabAllStills',\n",
       " 'GrabStill',\n",
       " 'ImportIntoTimeline',\n",
       " 'InsertFusionCompositionIntoTimeline',\n",
       " 'InsertFusionGeneratorIntoTimeline',\n",
       " 'InsertFusionTitleIntoTimeline',\n",
       " 'InsertGeneratorIntoTimeline',\n",
       " 'InsertOFXGeneratorIntoTimeline',\n",
       " 'InsertTitleIntoTimeline',\n",
       " 'Print',\n",
       " 'SetClipsLinked',\n",
       " 'SetCurrentTimecode',\n",
       " 'SetName',\n",
       " 'SetSetting',\n",
       " 'SetStartTimecode',\n",
       " 'SetTrackEnable',\n",
       " 'SetTrackLock',\n",
       " 'SetTrackName',\n",
       " 'UpdateMarkerCustomData']"
      ]
     },
     "execution_count": 17,
     "metadata": {},
     "output_type": "execute_result"
    }
   ],
   "source": [
    "dir(currentTimeline)"
   ]
  },
  {
   "cell_type": "code",
   "execution_count": 22,
   "metadata": {},
   "outputs": [
    {
     "name": "stdout",
     "output_type": "stream",
     "text": [
      "<class 'str'>\n"
     ]
    }
   ],
   "source": [
    "print(type(currentTimeline.GetCurrentTimecode()))"
   ]
  },
  {
   "cell_type": "code",
   "execution_count": 28,
   "metadata": {},
   "outputs": [
    {
     "data": {
      "text/plain": [
       "True"
      ]
     },
     "execution_count": 28,
     "metadata": {},
     "output_type": "execute_result"
    }
   ],
   "source": [
    "currentTimeline.SetCurrentTimecode(\"01:00:04:00\")"
   ]
  },
  {
   "cell_type": "code",
   "execution_count": 29,
   "metadata": {},
   "outputs": [
    {
     "data": {
      "text/plain": [
       "{'audioCaptureNumChannels': '2',\n",
       " 'audioOutputHasTimecode': '0',\n",
       " 'audioPlayoutNumChannels': '2',\n",
       " 'colorAcesGamutCompressType': 'None',\n",
       " 'colorAcesIDT': 'No Input Transform',\n",
       " 'colorAcesNodeLUTProcessingSpace': 'acesccAp1',\n",
       " 'colorAcesODT': 'No Output Transform',\n",
       " 'colorGalleryStillsLocation': '/Users/jan-hendrik/Movies/.gallery',\n",
       " 'colorGalleryStillsNamingCustomPattern': '',\n",
       " 'colorGalleryStillsNamingEnabled': '0',\n",
       " 'colorGalleryStillsNamingPattern': 'clipName',\n",
       " 'colorGalleryStillsNamingWithStillNumber': 'off',\n",
       " 'colorKeyframeDynamicsEndProfile': '1',\n",
       " 'colorKeyframeDynamicsStartProfile': '1',\n",
       " 'colorLuminanceMixerDefaultZero': '0',\n",
       " 'colorScienceMode': 'davinciYRGB',\n",
       " 'colorSpaceInput': 'Rec.709 Gamma 2.4',\n",
       " 'colorSpaceInputGamma': '',\n",
       " 'colorSpaceOutput': 'Rec.709 (Scene)',\n",
       " 'colorSpaceOutputGamma': '',\n",
       " 'colorSpaceOutputGamutMapping': 'None',\n",
       " 'colorSpaceOutputGamutSaturationKnee': '0.9',\n",
       " 'colorSpaceOutputGamutSaturationMax': '1',\n",
       " 'colorSpaceOutputToneLuminanceMax': '100',\n",
       " 'colorSpaceOutputToneMapping': 'None',\n",
       " 'colorSpaceTimeline': 'Rec.709 (Scene)',\n",
       " 'colorSpaceTimelineGamma': '',\n",
       " 'colorUseBGRPixelOrderForDPX': '0',\n",
       " 'colorUseContrastSCurve': '1',\n",
       " 'colorUseLegacyLogGrades': '2',\n",
       " 'colorUseLocalVersionsAsDefault': '1',\n",
       " 'colorUseStereoConvergenceForEffects': '0',\n",
       " 'colorVersion10Name': '',\n",
       " 'colorVersion1Name': '',\n",
       " 'colorVersion2Name': '',\n",
       " 'colorVersion3Name': '',\n",
       " 'colorVersion4Name': '',\n",
       " 'colorVersion5Name': '',\n",
       " 'colorVersion6Name': '',\n",
       " 'colorVersion7Name': '',\n",
       " 'colorVersion8Name': '',\n",
       " 'colorVersion9Name': '',\n",
       " 'disableFusionToneMapping': '0',\n",
       " 'graphicsWhiteLevel': '100',\n",
       " 'hdr10PlusControlsOn': '0',\n",
       " 'hdrDolbyAnalysisTuning': 'Balanced',\n",
       " 'hdrDolbyControlsOn': '0',\n",
       " 'hdrDolbyMasterDisplay': '',\n",
       " 'hdrDolbyVersion': '4.0',\n",
       " 'hdrMasteringLuminanceMax': '1000',\n",
       " 'hdrMasteringOn': '0',\n",
       " 'imageDeinterlaceQuality': 'normal',\n",
       " 'imageEnableFieldProcessing': '0',\n",
       " 'imageMotionEstimationMode': 'standardFaster',\n",
       " 'imageMotionEstimationRange': 'medium',\n",
       " 'imageResizeMode': 'sharper',\n",
       " 'imageResizingGamma': 'Timeline',\n",
       " 'imageRetimeInterpolation': 'nearest',\n",
       " 'inputDRT': 'None',\n",
       " 'inputDRTSatRolloffLimit': '10000',\n",
       " 'inputDRTSatRolloffStart': '100',\n",
       " 'isAutoColorManage': '0',\n",
       " 'limitAudioMeterAlignLevel': '0',\n",
       " 'limitAudioMeterDisplayMode': 'post_fader',\n",
       " 'limitAudioMeterHighLevel': '-5',\n",
       " 'limitAudioMeterLUFS': '-23',\n",
       " 'limitAudioMeterLoudnessScale': 'ebu_9_scale',\n",
       " 'limitAudioMeterLowLevel': '-10',\n",
       " 'limitBroadcastSafeLevels': '20_120',\n",
       " 'limitBroadcastSafeOn': '0',\n",
       " 'limitSubtitleCPL': '60',\n",
       " 'limitSubtitleCaptionDurationSec': '3',\n",
       " 'outputDRT': 'None',\n",
       " 'outputDRTSatRolloffLimit': '10000',\n",
       " 'outputDRTSatRolloffStart': '100',\n",
       " 'perfAutoRenderCacheAfterTime': '5',\n",
       " 'perfAutoRenderCacheComposite': '0',\n",
       " 'perfAutoRenderCacheEnable': '1',\n",
       " 'perfAutoRenderCacheFuEffect': '1',\n",
       " 'perfAutoRenderCacheTransition': '0',\n",
       " 'perfCacheClipsLocation': '',\n",
       " 'perfOptimisedCodec': 'apch',\n",
       " 'perfOptimisedMediaOn': '1',\n",
       " 'perfOptimizedResolutionRatio': 'auto',\n",
       " 'perfProxyMediaMode': '1',\n",
       " 'perfProxyResolutionRatio': 'original',\n",
       " 'perfRenderCacheCodec': 'apch',\n",
       " 'perfRenderCacheMode': 'none',\n",
       " 'rcmPresetMode': 'Custom',\n",
       " 'separateColorSpaceAndGamma': '0',\n",
       " 'superScaleNoiseReduction': 'Medium',\n",
       " 'superScaleNoiseReductionStrength': '0.5',\n",
       " 'superScaleSharpness': 'Medium',\n",
       " 'superScaleSharpnessStrength': '0.5',\n",
       " 'timelineDropFrameTimecode': '0',\n",
       " 'timelineFrameRate': 24.0,\n",
       " 'timelineFrameRateMismatchBehavior': 'resolve',\n",
       " 'timelineInputResMismatchBehavior': 'scaleToFit',\n",
       " 'timelineInputResMismatchCustomPreset': 'None',\n",
       " 'timelineInputResMismatchUseCustomPreset': '0',\n",
       " 'timelineInterlaceProcessing': '0',\n",
       " 'timelineOutputPixelAspectRatio': 'square',\n",
       " 'timelineOutputResMatchTimelineRes': '1',\n",
       " 'timelineOutputResMismatchBehavior': 'scaleToFit',\n",
       " 'timelineOutputResMismatchCustomPreset': 'None',\n",
       " 'timelineOutputResMismatchUseCustomPreset': '0',\n",
       " 'timelineOutputResolutionHeight': '1080',\n",
       " 'timelineOutputResolutionWidth': '1920',\n",
       " 'timelinePixelAspectRatio': 'square',\n",
       " 'timelinePlaybackFrameRate': '24',\n",
       " 'timelineResolutionHeight': '1080',\n",
       " 'timelineResolutionWidth': '1920',\n",
       " 'timelineSaveThumbsInProject': '0',\n",
       " 'timelineWorkingLuminance': '1000',\n",
       " 'timelineWorkingLuminanceMode': 'HDR 1000',\n",
       " 'transcriptionLanguage': 'auto',\n",
       " 'useCATransform': '1',\n",
       " 'useColorSpaceAwareGradingTools': '0',\n",
       " 'useInverseDRT': '0',\n",
       " 'videoCaptureCodec': '',\n",
       " 'videoCaptureFormat': '',\n",
       " 'videoCaptureIngestHandles': '0',\n",
       " 'videoCaptureLocation': '',\n",
       " 'videoCaptureMode': 'video_audio',\n",
       " 'videoDataLevels': 'Video',\n",
       " 'videoDataLevelsRetainSubblockAndSuperWhiteData': '0',\n",
       " 'videoDeckAdd32Pulldown': '0',\n",
       " 'videoDeckBitDepth': '10',\n",
       " 'videoDeckFormat': 'HD 1080PsF 24',\n",
       " 'videoDeckNonAutoEditFrames': '0',\n",
       " 'videoDeckOutputSyncSource': 'auto',\n",
       " 'videoDeckPrerollSec': '5',\n",
       " 'videoDeckSDIConfiguration': 'none',\n",
       " 'videoDeckUse444SDI': '0',\n",
       " 'videoDeckUseAudoEdit': '1',\n",
       " 'videoDeckUseStereoSDI': '0',\n",
       " 'videoMonitorBitDepth': '10',\n",
       " 'videoMonitorFormat': 'HD 1080p 24',\n",
       " 'videoMonitorMatrixOverrideFor422SDI': 'Rec.601',\n",
       " 'videoMonitorSDIConfiguration': 'dual_link',\n",
       " 'videoMonitorScaling': 'bilinear',\n",
       " 'videoMonitorUse444SDI': '0',\n",
       " 'videoMonitorUseHDROverHDMI': '0',\n",
       " 'videoMonitorUseLevelA': '0',\n",
       " 'videoMonitorUseMatrixOverrideFor422SDI': '0',\n",
       " 'videoMonitorUseStereoSDI': '0',\n",
       " 'videoPlayoutAudioFramesOffset': '0',\n",
       " 'videoPlayoutBatchHeadDuration': '8',\n",
       " 'videoPlayoutBatchTailDuration': '8',\n",
       " 'videoPlayoutLTCFramesOffset': '0',\n",
       " 'videoPlayoutMode': 'video_audio',\n",
       " 'videoPlayoutShowLTC': '0',\n",
       " 'videoPlayoutShowSourceTimecode': '0',\n",
       " 'superScale': 1}"
      ]
     },
     "execution_count": 29,
     "metadata": {},
     "output_type": "execute_result"
    }
   ],
   "source": [
    "currentTimeline.GetSetting()"
   ]
  },
  {
   "cell_type": "code",
   "execution_count": null,
   "metadata": {},
   "outputs": [],
   "source": []
  }
 ],
 "metadata": {
  "kernelspec": {
   "display_name": ".venv",
   "language": "python",
   "name": "python3"
  },
  "language_info": {
   "codemirror_mode": {
    "name": "ipython",
    "version": 3
   },
   "file_extension": ".py",
   "mimetype": "text/x-python",
   "name": "python",
   "nbconvert_exporter": "python",
   "pygments_lexer": "ipython3",
   "version": "3.12.3"
  }
 },
 "nbformat": 4,
 "nbformat_minor": 2
}
