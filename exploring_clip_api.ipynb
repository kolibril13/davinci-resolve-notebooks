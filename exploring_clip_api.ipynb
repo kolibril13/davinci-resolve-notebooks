{
 "cells": [
  {
   "cell_type": "code",
   "execution_count": 1,
   "id": "c0d59eb1-95d8-43bf-ad48-c85f1b887897",
   "metadata": {},
   "outputs": [
    {
     "name": "stdout",
     "output_type": "stream",
     "text": [
      "Current project: hello1\n"
     ]
    }
   ],
   "source": [
    "import sys\n",
    "import os\n",
    "\n",
    "# Append the DaVinci Resolve scripting path\n",
    "sys.path.append('/Library/Application Support/Blackmagic Design/DaVinci Resolve/Developer/Scripting/Modules')\n",
    "import DaVinciResolveScript as dvr_script\n",
    "\n",
    "# Initialize DaVinci Resolve\n",
    "resolve = dvr_script.scriptapp(\"Resolve\")\n",
    "\n",
    "# Get the project manager and current project\n",
    "projectManager = resolve.GetProjectManager()\n",
    "currentProject = projectManager.GetCurrentProject()\n",
    "media_pool = currentProject.GetMediaPool()\n",
    "currentTimeline = currentProject.GetCurrentTimeline()\n",
    "\n",
    "print(f\"Current project: {currentProject.GetName()}\")\n"
   ]
  },
  {
   "cell_type": "code",
   "execution_count": 2,
   "id": "1af5a3db-46c6-41d9-9172-c6ad8f9ae4cb",
   "metadata": {},
   "outputs": [],
   "source": [
    "videoInTimeline = currentTimeline.GetCurrentVideoItem()"
   ]
  },
  {
   "cell_type": "code",
   "execution_count": 3,
   "id": "d2ffd421-30e6-4dfd-8026-fd0b1ea66f36",
   "metadata": {},
   "outputs": [
    {
     "data": {
      "text/plain": [
       "'Orange'"
      ]
     },
     "execution_count": 3,
     "metadata": {},
     "output_type": "execute_result"
    }
   ],
   "source": [
    "videoInTimeline.GetClipColor()"
   ]
  },
  {
   "cell_type": "code",
   "execution_count": 4,
   "id": "9cf1209c-0eab-4040-b85f-0378c0edae35",
   "metadata": {},
   "outputs": [
    {
     "data": {
      "text/plain": [
       "True"
      ]
     },
     "execution_count": 4,
     "metadata": {},
     "output_type": "execute_result"
    }
   ],
   "source": [
    "videoInTimeline.SetClipColor(\"Orange\")"
   ]
  },
  {
   "cell_type": "code",
   "execution_count": 5,
   "id": "68fa88ba-c22a-4271-a5b5-f24ec837e28b",
   "metadata": {},
   "outputs": [
    {
     "data": {
      "text/plain": [
       "True"
      ]
     },
     "execution_count": 5,
     "metadata": {},
     "output_type": "execute_result"
    }
   ],
   "source": [
    "videoInTimeline.SetProperty(\"Opacity\",30)"
   ]
  },
  {
   "cell_type": "code",
   "execution_count": 6,
   "id": "b61d41ce-260b-463e-9b40-07ef597c9ddf",
   "metadata": {},
   "outputs": [
    {
     "name": "stdout",
     "output_type": "stream",
     "text": [
      "Pan: 0.0\n",
      "Tilt: 0.0\n",
      "ZoomX: 1.0\n",
      "ZoomY: 1.0\n",
      "ZoomGang: True\n",
      "RotationAngle: 0.0\n",
      "AnchorPointX: 0.0\n",
      "AnchorPointY: 0.0\n",
      "Pitch: 0.0\n",
      "Yaw: 0.0\n",
      "FlipX: False\n",
      "FlipY: False\n",
      "CropLeft: 0.0\n",
      "CropRight: 0.0\n",
      "CropTop: 0.0\n",
      "CropBottom: 0.0\n",
      "CropSoftness: 0.0\n",
      "CropRetain: False\n",
      "DynamicZoomEase: 0\n",
      "CompositeMode: 0\n",
      "Opacity: 30.0\n",
      "Distortion: 0.0\n",
      "RetimeProcess: 0\n",
      "MotionEstimation: 0\n",
      "Scaling: 0\n",
      "ResizeFilter: 0\n"
     ]
    }
   ],
   "source": [
    "properties = videoInTimeline.GetProperty() \n",
    "for key, value in properties.items():\n",
    "    print(f\"{key}: {value}\")"
   ]
  },
  {
   "cell_type": "code",
   "execution_count": null,
   "id": "1ff3c574-170e-4847-94a9-041ad7d32525",
   "metadata": {},
   "outputs": [],
   "source": [
    "currentTimeline = currentProject.GetCurrentTimeline()\n",
    "videoInTimeline = currentTimeline.GetCurrentVideoItem()\n",
    "videoInTimeline.SetDuration # <- this does not exist"
   ]
  }
 ],
 "metadata": {
  "kernelspec": {
   "display_name": "Python 3 (ipykernel)",
   "language": "python",
   "name": "python3"
  },
  "language_info": {
   "codemirror_mode": {
    "name": "ipython",
    "version": 3
   },
   "file_extension": ".py",
   "mimetype": "text/x-python",
   "name": "python",
   "nbconvert_exporter": "python",
   "pygments_lexer": "ipython3",
   "version": "3.12.3"
  }
 },
 "nbformat": 4,
 "nbformat_minor": 5
}
