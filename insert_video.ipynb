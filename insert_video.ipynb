{
 "cells": [
  {
   "cell_type": "code",
   "execution_count": 14,
   "metadata": {},
   "outputs": [
    {
     "name": "stdout",
     "output_type": "stream",
     "text": [
      "The imported clip has been added to the timeline.\n"
     ]
    }
   ],
   "source": [
    "import sys\n",
    "import os\n",
    "sys.path.append('/Library/Application Support/Blackmagic Design/DaVinci Resolve/Developer/Scripting/Modules')\n",
    "import DaVinciResolveScript as dvr_script\n",
    "\n",
    "# Initialize the DaVinci Resolve scripting API\n",
    "resolve = dvr_script.scriptapp(\"Resolve\")\n",
    "\n",
    "# Access the project manager and current project\n",
    "projectManager = resolve.GetProjectManager()\n",
    "currentProject = projectManager.GetCurrentProject()\n",
    "currentTimeline = currentProject.GetCurrentTimeline()\n",
    "\n",
    "# Insert a simple title into the timeline\n",
    "simple_title = currentTimeline.InsertTitleIntoTimeline('Text')\n",
    "\n",
    "# Path to the latest .mov file\n",
    "latest_mov_file = \"~/Desktop/fin.mov\"  # Replace this with the actual file path\n",
    "latest_mov_file = os.path.expanduser(latest_mov_file)\n",
    "\n",
    "# Check if the file exists\n",
    "if os.path.exists(latest_mov_file):\n",
    "    # Import the media file into the project\n",
    "    mediaPool = currentProject.GetMediaPool()\n",
    "    mediaPool.ImportMedia([latest_mov_file])\n",
    "    \n",
    "    # Get the imported clip\n",
    "    mediaItems = mediaPool.GetRootFolder().GetClipList()\n",
    "    importedClip = None\n",
    "    for clip in mediaItems:\n",
    "        if clip.GetClipProperty(\"File Path\") == latest_mov_file:\n",
    "            importedClip = clip\n",
    "            break\n",
    "\n",
    "    if importedClip:\n",
    "        # Append the imported clip to the timeline\n",
    "        mediaPool.AppendToTimeline([importedClip])\n",
    "        print(\"The imported clip has been added to the timeline.\")\n",
    "    else:\n",
    "        print(\"The imported clip was not found in the media pool.\")\n",
    "else:\n",
    "    print(\"The specified .mov file does not exist.\")"
   ]
  },
  {
   "cell_type": "code",
   "execution_count": null,
   "metadata": {},
   "outputs": [],
   "source": []
  },
  {
   "cell_type": "code",
   "execution_count": null,
   "metadata": {},
   "outputs": [],
   "source": []
  },
  {
   "cell_type": "code",
   "execution_count": null,
   "metadata": {},
   "outputs": [],
   "source": []
  }
 ],
 "metadata": {
  "kernelspec": {
   "display_name": ".venv",
   "language": "python",
   "name": "python3"
  },
  "language_info": {
   "codemirror_mode": {
    "name": "ipython",
    "version": 3
   },
   "file_extension": ".py",
   "mimetype": "text/x-python",
   "name": "python",
   "nbconvert_exporter": "python",
   "pygments_lexer": "ipython3",
   "version": "3.12.3"
  }
 },
 "nbformat": 4,
 "nbformat_minor": 2
}
