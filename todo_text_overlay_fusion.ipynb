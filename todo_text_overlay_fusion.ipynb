{
 "cells": [
  {
   "cell_type": "code",
   "execution_count": 1,
   "metadata": {},
   "outputs": [],
   "source": [
    "import sys\n",
    "sys.path.append('/Library/Application Support/Blackmagic Design/DaVinci Resolve/Developer/Scripting/Modules')\n",
    "import DaVinciResolveScript as dvr_script\n",
    "\n",
    "resolve = dvr_script.scriptapp(\"Resolve\")\n",
    "\n",
    "projectManager = resolve.GetProjectManager()\n",
    "currentProject = projectManager.GetCurrentProject()\n",
    "currentTimeline = currentProject.GetCurrentTimeline()"
   ]
  },
  {
   "cell_type": "code",
   "execution_count": 3,
   "metadata": {},
   "outputs": [
    {
     "name": "stdout",
     "output_type": "stream",
     "text": [
      "Timeline item (0x0x3dc32ef80) [App: 'Resolve' on 127.0.0.1, UUID: 0c63b011-69aa-4cd7-bbf5-fc70d327f5a4]\n"
     ]
    }
   ],
   "source": [
    "obj = currentTimeline.GetCurrentVideoItem()\n",
    "print(obj)\n"
   ]
  },
  {
   "cell_type": "code",
   "execution_count": 4,
   "metadata": {},
   "outputs": [
    {
     "data": {
      "text/plain": [
       "True"
      ]
     },
     "execution_count": 4,
     "metadata": {},
     "output_type": "execute_result"
    }
   ],
   "source": [
    "# Add a Text+ tool to the Fusion composition and set the text to \"Hello World\"\n",
    "fusion_comp = obj.AddFusionComp()\n",
    "text_tool = fusion_comp.AddTool(\"TextPlus\")\n",
    "\n",
    "# Set the text value\n",
    "text_tool.SetInput(\"StyledText\", \"Hello World\")\n",
    "\n",
    "# Add a Merge tool to the Fusion composition\n",
    "merge_tool = fusion_comp.AddTool(\"Merge\")\n",
    "\n",
    "# Connect the Text+ tool to the Foreground input of the Merge tool\n",
    "merge_tool.ConnectInput(\"Foreground\", text_tool)\n",
    "\n",
    "# Connect the MediaIn1 tool to the Background input of the Merge tool\n",
    "media_in_tool = fusion_comp.FindTool(\"MediaIn1\")\n",
    "merge_tool.ConnectInput(\"Background\", media_in_tool)\n",
    "\n",
    "# Connect the Merge tool to the MediaOut1 node to complete the composition\n",
    "media_out_tool = fusion_comp.FindTool(\"MediaOut1\")\n",
    "media_out_tool.ConnectInput(\"Input\", merge_tool)"
   ]
  },
  {
   "cell_type": "code",
   "execution_count": null,
   "metadata": {},
   "outputs": [],
   "source": []
  }
 ],
 "metadata": {
  "kernelspec": {
   "display_name": ".venv",
   "language": "python",
   "name": "python3"
  },
  "language_info": {
   "codemirror_mode": {
    "name": "ipython",
    "version": 3
   },
   "file_extension": ".py",
   "mimetype": "text/x-python",
   "name": "python",
   "nbconvert_exporter": "python",
   "pygments_lexer": "ipython3",
   "version": "3.12.3"
  }
 },
 "nbformat": 4,
 "nbformat_minor": 2
}
