{
 "cells": [
  {
   "cell_type": "code",
   "execution_count": 31,
   "id": "80604700-0c78-45d8-99d8-6705387e1b10",
   "metadata": {},
   "outputs": [
    {
     "name": "stdout",
     "output_type": "stream",
     "text": [
      "Current project: hello1\n"
     ]
    },
    {
     "data": {
      "text/plain": [
       "[<BlackmagicFusion.PyRemoteObject at 0x1116c4050>]"
      ]
     },
     "execution_count": 31,
     "metadata": {},
     "output_type": "execute_result"
    }
   ],
   "source": [
    "import sys\n",
    "import os\n",
    "\n",
    "# Append the DaVinci Resolve scripting path\n",
    "sys.path.append('/Library/Application Support/Blackmagic Design/DaVinci Resolve/Developer/Scripting/Modules')\n",
    "import DaVinciResolveScript as dvr_script\n",
    "\n",
    "# Initialize DaVinci Resolve\n",
    "resolve = dvr_script.scriptapp(\"Resolve\")\n",
    "\n",
    "# Get the project manager and current project\n",
    "projectManager = resolve.GetProjectManager()\n",
    "currentProject = projectManager.GetCurrentProject()\n",
    "media_pool = currentProject.GetMediaPool()\n",
    "currentTimeline = currentProject.GetCurrentTimeline()\n",
    "\n",
    "print(f\"Current project: {currentProject.GetName()}\")\n",
    "\n",
    "# Find the media pool item for \"test.png\"\n",
    "mediaPoolRoot = media_pool.GetRootFolder()\n",
    "mediaPoolItems = mediaPoolRoot.GetClipList()\n",
    "imageMediaPoolItem = None\n",
    "\n",
    "for item in mediaPoolItems:\n",
    "    if item.GetName() == \"test.png\":\n",
    "        imageMediaPoolItem = item\n",
    "        break\n",
    "\n",
    "clipInfo = {\n",
    "    \"mediaPoolItem\": imageMediaPoolItem,\n",
    "    \"trackIndex\": 2,\n",
    "    \"startFrame\" : int(0),\n",
    "    \"endFrame\" : int(20),\n",
    "}\n",
    "media_pool.AppendToTimeline([clipInfo])"
   ]
  },
  {
   "cell_type": "code",
   "execution_count": 28,
   "id": "df85ce06-f84d-4af0-823f-01dbf1bdfe4c",
   "metadata": {},
   "outputs": [
    {
     "data": {
      "text/plain": [
       "86400"
      ]
     },
     "execution_count": 28,
     "metadata": {},
     "output_type": "execute_result"
    }
   ],
   "source": [
    "currentTimeline.GetStartFrame()"
   ]
  }
 ],
 "metadata": {
  "kernelspec": {
   "display_name": "Python 3 (ipykernel)",
   "language": "python",
   "name": "python3"
  },
  "language_info": {
   "codemirror_mode": {
    "name": "ipython",
    "version": 3
   },
   "file_extension": ".py",
   "mimetype": "text/x-python",
   "name": "python",
   "nbconvert_exporter": "python",
   "pygments_lexer": "ipython3",
   "version": "3.12.3"
  }
 },
 "nbformat": 4,
 "nbformat_minor": 5
}
