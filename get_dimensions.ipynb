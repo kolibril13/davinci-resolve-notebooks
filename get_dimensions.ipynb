{
 "cells": [
  {
   "cell_type": "code",
   "execution_count": 7,
   "metadata": {},
   "outputs": [
    {
     "name": "stdout",
     "output_type": "stream",
     "text": [
      "The dimensions of the video are 3740x1968 pixels.\n"
     ]
    }
   ],
   "source": [
    "import subprocess\n",
    "import re\n",
    "import os\n",
    "\n",
    "def get_video_dimensions(file_path):\n",
    "    try:\n",
    "        # Expand user path\n",
    "        file_path = os.path.expanduser(file_path)\n",
    "        \n",
    "        # Run ffmpeg to get video info\n",
    "        result = subprocess.run(\n",
    "            ['ffmpeg', '-i', file_path],\n",
    "            stderr=subprocess.PIPE,\n",
    "            stdout=subprocess.PIPE,\n",
    "            text=True\n",
    "        )\n",
    "        \n",
    "        # Extract dimensions from the output\n",
    "        output = result.stderr\n",
    "        # print(output)  # Print the output for debugging\n",
    "        \n",
    "        # Updated regex pattern to match different formats\n",
    "        match = re.search(r'Stream.*Video.*? (\\d{2,5})x(\\d{2,5})', output)\n",
    "        \n",
    "        if match:\n",
    "            width, height = match.groups()\n",
    "            return int(width), int(height)\n",
    "        else:\n",
    "            raise ValueError(\"Could not find video dimensions\")\n",
    "    except Exception as e:\n",
    "        print(f\"An error occurred: {e}\")\n",
    "        return None, None\n",
    "\n",
    "file_path = \"~/Desktop/fin.mov\"\n",
    "width, height = get_video_dimensions(file_path)\n",
    "if width and height:\n",
    "    print(f\"The dimensions of the video are {width}x{height} pixels.\")\n",
    "else:\n",
    "    print(\"Failed to get the video dimensions.\")"
   ]
  },
  {
   "cell_type": "code",
   "execution_count": null,
   "metadata": {},
   "outputs": [],
   "source": []
  }
 ],
 "metadata": {
  "kernelspec": {
   "display_name": ".venv",
   "language": "python",
   "name": "python3"
  },
  "language_info": {
   "codemirror_mode": {
    "name": "ipython",
    "version": 3
   },
   "file_extension": ".py",
   "mimetype": "text/x-python",
   "name": "python",
   "nbconvert_exporter": "python",
   "pygments_lexer": "ipython3",
   "version": "3.12.3"
  }
 },
 "nbformat": 4,
 "nbformat_minor": 2
}
