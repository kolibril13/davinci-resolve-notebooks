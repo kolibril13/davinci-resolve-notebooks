{
 "cells": [
  {
   "cell_type": "code",
   "execution_count": 12,
   "id": "56f37535-5575-40b5-afa4-2fe9d17980f1",
   "metadata": {},
   "outputs": [
    {
     "name": "stdout",
     "output_type": "stream",
     "text": [
      "Current project: hi\n"
     ]
    },
    {
     "data": {
      "text/plain": [
       "True"
      ]
     },
     "execution_count": 12,
     "metadata": {},
     "output_type": "execute_result"
    }
   ],
   "source": [
    "import sys\n",
    "sys.path.append('/Library/Application Support/Blackmagic Design/DaVinci Resolve/Developer/Scripting/Modules')\n",
    "import DaVinciResolveScript as dvr_script\n",
    "\n",
    "resolve = dvr_script.scriptapp(\"Resolve\")\n",
    "\n",
    "projectManager = resolve.GetProjectManager()\n",
    "currentProject = projectManager.GetCurrentProject()\n",
    "media_pool = currentProject.GetMediaPool()\n",
    "\n",
    "currentTimeline = currentProject.GetCurrentTimeline()\n",
    "if currentTimeline is None:\n",
    "    currentTimeline = media_pool.CreateEmptyTimeline(\"MyTimeLine\")\n",
    "\n",
    "print(f\"Current project: {currentProject.GetName()}\")\n",
    "\n",
    "\n",
    "# Insert Fusion Composition into the timeline\n",
    "obj = currentTimeline.InsertFusionCompositionIntoTimeline()\n",
    "fusion_comp = obj.AddFusionComp()\n",
    "\n",
    "# Add TextPlus tool and set initial text\n",
    "text_tool = fusion_comp.AddTool(\"TextPlus\")\n",
    "text_tool.SetInput(\"StyledText\", \"Hello\\nWorld\") #adjust\n",
    "\n",
    "#for the text\n",
    "text_tool.SetInput(\"Red1\", 0) #adjust\n",
    "text_tool.SetInput(\"Green1\", 0) #adjust\n",
    "text_tool.SetInput(\"Blue1\", 1) #adjust\n",
    "text_tool.SetInput(\"Alpha1\", 1)\n",
    "\n",
    "#for the background\n",
    "text_tool.SetInput(\"Red\", 0) #adjust\n",
    "text_tool.SetInput(\"Green\", 1) #adjust\n",
    "text_tool.SetInput(\"Blue\", 1) #adjust\n",
    "text_tool.SetInput(\"Alpha\", 1) #adjust\n",
    "\n",
    "# Set the text size to 0.3\n",
    "text_tool.SetInput(\"Size\", 0.2)\n",
    "text_tool.SetInput(\"Font\", \"Comic Sans MS\")\n",
    "\n",
    "# Connect the text tool to MediaOut1\n",
    "media_out_tool = fusion_comp.FindTool(\"MediaOut1\")\n",
    "media_out_tool.ConnectInput(\"Input\", text_tool)"
   ]
  },
  {
   "cell_type": "code",
   "execution_count": null,
   "id": "9d7c38f2-3e80-4e95-8587-2e6539edf86b",
   "metadata": {},
   "outputs": [],
   "source": []
  }
 ],
 "metadata": {
  "kernelspec": {
   "display_name": "Python 3 (ipykernel)",
   "language": "python",
   "name": "python3"
  },
  "language_info": {
   "codemirror_mode": {
    "name": "ipython",
    "version": 3
   },
   "file_extension": ".py",
   "mimetype": "text/x-python",
   "name": "python",
   "nbconvert_exporter": "python",
   "pygments_lexer": "ipython3",
   "version": "3.12.3"
  }
 },
 "nbformat": 4,
 "nbformat_minor": 5
}
