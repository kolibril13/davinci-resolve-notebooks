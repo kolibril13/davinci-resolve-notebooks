{
 "cells": [
  {
   "cell_type": "code",
   "execution_count": 1,
   "metadata": {},
   "outputs": [
    {
     "name": "stdout",
     "output_type": "stream",
     "text": [
      "The dimensions of the video are 3740x1968 pixels.\n"
     ]
    }
   ],
   "source": [
    "import subprocess\n",
    "import re\n",
    "import os\n",
    "\n",
    "def get_video_dimensions(file_path):\n",
    "    try:\n",
    "        # Expand user path\n",
    "        file_path = os.path.expanduser(file_path)\n",
    "        \n",
    "        # Run ffmpeg to get video info\n",
    "        result = subprocess.run(\n",
    "            ['ffmpeg', '-i', file_path],\n",
    "            stderr=subprocess.PIPE,\n",
    "            stdout=subprocess.PIPE,\n",
    "            text=True\n",
    "        )\n",
    "        \n",
    "        # Extract dimensions from the output\n",
    "        output = result.stderr\n",
    "        # print(output)  # Print the output for debugging\n",
    "        \n",
    "        # Updated regex pattern to match different formats\n",
    "        match = re.search(r'Stream.*Video.*? (\\d{2,5})x(\\d{2,5})', output)\n",
    "        \n",
    "        if match:\n",
    "            width, height = match.groups()\n",
    "            return int(width), int(height)\n",
    "        else:\n",
    "            raise ValueError(\"Could not find video dimensions\")\n",
    "    except Exception as e:\n",
    "        print(f\"An error occurred: {e}\")\n",
    "        return None, None\n",
    "\n",
    "file_path = \"~/Desktop/fin.mov\"\n",
    "width, height = get_video_dimensions(file_path)\n",
    "if width and height:\n",
    "    print(f\"The dimensions of the video are {width}x{height} pixels.\")\n",
    "else:\n",
    "    print(\"Failed to get the video dimensions.\")"
   ]
  },
  {
   "cell_type": "code",
   "execution_count": 2,
   "metadata": {},
   "outputs": [
    {
     "ename": "AttributeError",
     "evalue": "'NoneType' object has no attribute 'GetProjectManager'",
     "output_type": "error",
     "traceback": [
      "\u001b[0;31m---------------------------------------------------------------------------\u001b[0m",
      "\u001b[0;31mAttributeError\u001b[0m                            Traceback (most recent call last)",
      "Cell \u001b[0;32mIn[2], line 7\u001b[0m\n\u001b[1;32m      3\u001b[0m \u001b[38;5;28;01mimport\u001b[39;00m \u001b[38;5;21;01mDaVinciResolveScript\u001b[39;00m \u001b[38;5;28;01mas\u001b[39;00m \u001b[38;5;21;01mdvr_script\u001b[39;00m\n\u001b[1;32m      5\u001b[0m resolve \u001b[38;5;241m=\u001b[39m dvr_script\u001b[38;5;241m.\u001b[39mscriptapp(\u001b[38;5;124m\"\u001b[39m\u001b[38;5;124mResolve\u001b[39m\u001b[38;5;124m\"\u001b[39m)\n\u001b[0;32m----> 7\u001b[0m projectManager \u001b[38;5;241m=\u001b[39m \u001b[43mresolve\u001b[49m\u001b[38;5;241;43m.\u001b[39;49m\u001b[43mGetProjectManager\u001b[49m()\n\u001b[1;32m      8\u001b[0m currentProject \u001b[38;5;241m=\u001b[39m projectManager\u001b[38;5;241m.\u001b[39mGetCurrentProject()\n\u001b[1;32m      9\u001b[0m media_pool \u001b[38;5;241m=\u001b[39m currentProject\u001b[38;5;241m.\u001b[39mGetMediaPool()\n",
      "\u001b[0;31mAttributeError\u001b[0m: 'NoneType' object has no attribute 'GetProjectManager'"
     ]
    }
   ],
   "source": [
    "import sys\n",
    "sys.path.append('/Library/Application Support/Blackmagic Design/DaVinci Resolve/Developer/Scripting/Modules')\n",
    "import DaVinciResolveScript as dvr_script\n",
    "\n",
    "resolve = dvr_script.scriptapp(\"Resolve\")\n",
    "\n",
    "projectManager = resolve.GetProjectManager()\n",
    "currentProject = projectManager.GetCurrentProject()\n",
    "media_pool = currentProject.GetMediaPool()\n",
    "\n",
    "currentTimeline = currentProject.GetCurrentTimeline()\n",
    "if currentTimeline is None:\n",
    "    currentTimeline = media_pool.CreateEmptyTimeline(\"MyTimeLine\")\n",
    "\n",
    "print(f\"Current project: {currentProject.GetName()}\")\n",
    "\n",
    "# Define the new resolution\n",
    "sourceWidth = width\n",
    "sourceHeight = height\n",
    "\n",
    "# Update project settings\n",
    "currentProject.SetSetting('timelineResolutionWidth', str(sourceWidth))\n",
    "currentProject.SetSetting('timelineResolutionHeight', str(sourceHeight))\n",
    "\n",
    "# Create a new timeline if necessary\n",
    "if currentTimeline is None:\n",
    "    currentTimeline = media_pool.CreateEmptyTimeline(\"MyTimeLine\")\n",
    "\n",
    "# Update timeline settings\n",
    "currentTimeline.SetSetting('timelineOutputResolutionWidth', str(sourceWidth))\n",
    "currentTimeline.SetSetting('timelineOutputResolutionHeight', str(sourceHeight))\n",
    "currentTimeline.SetSetting('timelineResolutionWidth', str(sourceWidth))\n",
    "currentTimeline.SetSetting('timelineResolutionHeight', str(sourceHeight))\n"
   ]
  },
  {
   "cell_type": "code",
   "execution_count": null,
   "metadata": {},
   "outputs": [],
   "source": []
  }
 ],
 "metadata": {
  "kernelspec": {
   "display_name": ".venv",
   "language": "python",
   "name": "python3"
  },
  "language_info": {
   "codemirror_mode": {
    "name": "ipython",
    "version": 3
   },
   "file_extension": ".py",
   "mimetype": "text/x-python",
   "name": "python",
   "nbconvert_exporter": "python",
   "pygments_lexer": "ipython3",
   "version": "3.12.3"
  }
 },
 "nbformat": 4,
 "nbformat_minor": 2
}
