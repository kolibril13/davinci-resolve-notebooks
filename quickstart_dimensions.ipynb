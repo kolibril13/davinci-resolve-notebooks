{
 "cells": [
  {
   "cell_type": "code",
   "execution_count": 4,
   "metadata": {},
   "outputs": [
    {
     "name": "stdout",
     "output_type": "stream",
     "text": [
      "The dimensions of the video are 1460x1686 pixels.\n"
     ]
    }
   ],
   "source": [
    "import subprocess\n",
    "import re\n",
    "import os\n",
    "\n",
    "def get_video_dimensions(file_path):\n",
    "    try:\n",
    "        # Expand user path\n",
    "        file_path = os.path.expanduser(file_path)\n",
    "        \n",
    "        # Run ffmpeg to get video info\n",
    "        result = subprocess.run(\n",
    "            ['ffmpeg', '-i', file_path],\n",
    "            stderr=subprocess.PIPE,\n",
    "            stdout=subprocess.PIPE,\n",
    "            text=True\n",
    "        )\n",
    "        \n",
    "        # Extract dimensions from the output\n",
    "        output = result.stderr\n",
    "        # print(output)  # Print the output for debugging\n",
    "        \n",
    "        # Updated regex pattern to match different formats\n",
    "        match = re.search(r'Stream.*Video.*? (\\d{2,5})x(\\d{2,5})', output)\n",
    "        \n",
    "        if match:\n",
    "            width, height = match.groups()\n",
    "            return int(width), int(height)\n",
    "        else:\n",
    "            raise ValueError(\"Could not find video dimensions\")\n",
    "    except Exception as e:\n",
    "        print(f\"An error occurred: {e}\")\n",
    "        return None, None\n",
    "\n",
    "file_path = \"~/Desktop/fin.mov\"\n",
    "width, height = get_video_dimensions(file_path)\n",
    "if width and height:\n",
    "    print(f\"The dimensions of the video are {width}x{height} pixels.\")\n",
    "else:\n",
    "    print(\"Failed to get the video dimensions.\")"
   ]
  },
  {
   "cell_type": "code",
   "execution_count": 5,
   "metadata": {},
   "outputs": [
    {
     "name": "stdout",
     "output_type": "stream",
     "text": [
      "Current project: hi2\n",
      "The imported clip has been added to the timeline.\n"
     ]
    }
   ],
   "source": [
    "import sys\n",
    "import os \n",
    "sys.path.append('/Library/Application Support/Blackmagic Design/DaVinci Resolve/Developer/Scripting/Modules')\n",
    "import DaVinciResolveScript as dvr_script\n",
    "\n",
    "resolve = dvr_script.scriptapp(\"Resolve\")\n",
    "\n",
    "projectManager = resolve.GetProjectManager()\n",
    "currentProject = projectManager.GetCurrentProject()\n",
    "media_pool = currentProject.GetMediaPool()\n",
    "\n",
    "currentTimeline = currentProject.GetCurrentTimeline()\n",
    "if currentTimeline is None:\n",
    "    currentTimeline = media_pool.CreateEmptyTimeline(\"MyTimeLine\")\n",
    "\n",
    "print(f\"Current project: {currentProject.GetName()}\")\n",
    "\n",
    "# Insert a simple title into the timeline\n",
    "simple_title = currentTimeline.InsertTitleIntoTimeline('Text')\n",
    "\n",
    "# Path to the latest .mov file\n",
    "latest_mov_file = file_path\n",
    "latest_mov_file = os.path.expanduser(latest_mov_file)\n",
    "\n",
    "# Check if the file exists\n",
    "if os.path.exists(latest_mov_file):\n",
    "    # Import the media file into the project\n",
    "    mediaPool = currentProject.GetMediaPool()\n",
    "    mediaPool.ImportMedia([latest_mov_file])\n",
    "    \n",
    "    # Get the imported clip\n",
    "    mediaItems = mediaPool.GetRootFolder().GetClipList()\n",
    "    importedClip = None\n",
    "    for clip in mediaItems:\n",
    "        if clip.GetClipProperty(\"File Path\") == latest_mov_file:\n",
    "            importedClip = clip\n",
    "            break\n",
    "\n",
    "    if importedClip:\n",
    "        # Append the imported clip to the timeline\n",
    "        mediaPool.AppendToTimeline([importedClip])\n",
    "        print(\"The imported clip has been added to the timeline.\")\n",
    "    else:\n",
    "        print(\"The imported clip was not found in the media pool.\")\n",
    "else:\n",
    "    print(\"The specified .mov file does not exist.\")"
   ]
  },
  {
   "cell_type": "code",
   "execution_count": 6,
   "metadata": {},
   "outputs": [
    {
     "name": "stdout",
     "output_type": "stream",
     "text": [
      "hi\n"
     ]
    }
   ],
   "source": [
    "# Define the new resolution\n",
    "sourceWidth = width\n",
    "sourceHeight = height\n",
    "\n",
    "# Update project settings\n",
    "currentProject.SetSetting('timelineResolutionWidth', str(sourceWidth))\n",
    "currentProject.SetSetting('timelineResolutionHeight', str(sourceHeight))\n",
    "\n",
    "# Create a new timeline if necessary\n",
    "if currentTimeline is None:\n",
    "    currentTimeline = media_pool.CreateEmptyTimeline(\"MyTimeLine\")\n",
    "\n",
    "# Update timeline settings\n",
    "currentTimeline.SetSetting('timelineOutputResolutionWidth', str(sourceWidth))\n",
    "currentTimeline.SetSetting('timelineOutputResolutionHeight', str(sourceHeight))\n",
    "currentTimeline.SetSetting('timelineResolutionWidth', str(sourceWidth))\n",
    "currentTimeline.SetSetting('timelineResolutionHeight', str(sourceHeight))\n",
    "print(\"hi\")"
   ]
  },
  {
   "cell_type": "code",
   "execution_count": null,
   "metadata": {},
   "outputs": [],
   "source": []
  }
 ],
 "metadata": {
  "kernelspec": {
   "display_name": ".venv",
   "language": "python",
   "name": "python3"
  },
  "language_info": {
   "codemirror_mode": {
    "name": "ipython",
    "version": 3
   },
   "file_extension": ".py",
   "mimetype": "text/x-python",
   "name": "python",
   "nbconvert_exporter": "python",
   "pygments_lexer": "ipython3",
   "version": "3.12.3"
  }
 },
 "nbformat": 4,
 "nbformat_minor": 2
}
