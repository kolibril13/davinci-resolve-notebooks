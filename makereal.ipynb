{
 "cells": [
  {
   "cell_type": "code",
   "execution_count": 12,
   "id": "7ee5c214-ec07-4b8a-bc98-2e5c4cd1d084",
   "metadata": {},
   "outputs": [
    {
     "data": {
      "application/vnd.jupyter.widget-view+json": {
       "model_id": "0c34c853e65f4f358df6d2ded894ca3a",
       "version_major": 2,
       "version_minor": 1
      },
      "text/plain": [
       "MakeReal Widget"
      ]
     },
     "execution_count": 12,
     "metadata": {},
     "output_type": "execute_result"
    }
   ],
   "source": [
    "from tldraw import MakeReal\n",
    "from api_key import api_key\n",
    "\n",
    "m = MakeReal(width=1002, height = 500, api_key = api_key)\n",
    "m"
   ]
  },
  {
   "cell_type": "code",
   "execution_count": 13,
   "id": "a6f7e1f5-6218-4dec-9e3f-f8490d2d6ea9",
   "metadata": {},
   "outputs": [
    {
     "ename": "ModuleNotFoundError",
     "evalue": "No module named 'matplotlib'",
     "output_type": "error",
     "traceback": [
      "\u001b[0;31m---------------------------------------------------------------------------\u001b[0m",
      "\u001b[0;31mModuleNotFoundError\u001b[0m                       Traceback (most recent call last)",
      "Cell \u001b[0;32mIn[13], line 1\u001b[0m\n\u001b[0;32m----> 1\u001b[0m \u001b[38;5;28;01mimport\u001b[39;00m \u001b[38;5;21;01mmatplotlib\u001b[39;00m\u001b[38;5;21;01m.\u001b[39;00m\u001b[38;5;21;01mpyplot\u001b[39;00m \u001b[38;5;28;01mas\u001b[39;00m \u001b[38;5;21;01mplt\u001b[39;00m\n\u001b[1;32m      2\u001b[0m \u001b[38;5;28;01mimport\u001b[39;00m \u001b[38;5;21;01mnumpy\u001b[39;00m \u001b[38;5;28;01mas\u001b[39;00m \u001b[38;5;21;01mnp\u001b[39;00m\n\u001b[1;32m      4\u001b[0m \u001b[38;5;66;03m# Define the square parameters\u001b[39;00m\n",
      "\u001b[0;31mModuleNotFoundError\u001b[0m: No module named 'matplotlib'"
     ]
    }
   ],
   "source": [
    "import matplotlib.pyplot as plt\n",
    "import numpy as np\n",
    "\n",
    "# Define the square parameters\n",
    "square_length = 4\n",
    "square_vertices = np.array([\n",
    "    [0, 0],\n",
    "    [square_length, 0],\n",
    "    [square_length, square_length],\n",
    "    [0, square_length],\n",
    "    [0, 0]\n",
    "])\n",
    "\n",
    "# Create the plot\n",
    "fig, ax = plt.subplots()\n",
    "\n",
    "# Plot the square using blue color and thicker lines for better visibility\n",
    "ax.plot(square_vertices[:, 0], square_vertices[:, 1], color='blue', linewidth=3)\n",
    "\n",
    "# Setting aspect ratio to be equal to make it looks like a proper square\n",
    "ax.set_aspect('equal')\n",
    "\n",
    "# Setting grid to make it more scientific\n",
    "ax.grid(True)\n",
    "\n",
    "# Adding some margin for better visualization\n",
    "ax.set_xlim(-1, square_length + 1)\n",
    "ax.set_ylim(-1, square_length + 1)\n",
    "\n",
    "# Add title and labels to make it more complete\n",
    "ax.set_title(\"Square Visualization\")\n",
    "ax.set_xlabel(\"X-axis\")\n",
    "ax.set_ylabel(\"Y-axis\")\n",
    "\n",
    "# Show the plot\n",
    "plt.savefig(\"high_fidelity_square_plot.png\")\n",
    "plt.show()"
   ]
  },
  {
   "cell_type": "code",
   "execution_count": null,
   "id": "c1dc387b-687d-4411-b079-efe7920444e4",
   "metadata": {},
   "outputs": [],
   "source": []
  },
  {
   "cell_type": "code",
   "execution_count": 26,
   "id": "8dce0b34-58f0-4f0e-926c-f8246c598186",
   "metadata": {},
   "outputs": [],
   "source": [
    "from ipylab import JupyterFrontEnd\n",
    "import time\n",
    "\n",
    "app = JupyterFrontEnd()\n",
    "app.commands.execute(\"notebook:insert-cell-below\") \n",
    "time.sleep(0.1)\n",
    "app.commands.execute(\"notebook:replace-selection\", {\"text\": \"hi\"})"
   ]
  },
  {
   "cell_type": "code",
   "execution_count": null,
   "id": "7ec32128-b7a7-4342-bfaf-ee602fc5a9af",
   "metadata": {},
   "outputs": [],
   "source": [
    "hi"
   ]
  },
  {
   "cell_type": "code",
   "execution_count": null,
   "id": "17033224-7ba5-4d64-adfc-d7044e52b33f",
   "metadata": {},
   "outputs": [],
   "source": []
  }
 ],
 "metadata": {
  "kernelspec": {
   "display_name": "Python 3 (ipykernel)",
   "language": "python",
   "name": "python3"
  },
  "language_info": {
   "codemirror_mode": {
    "name": "ipython",
    "version": 3
   },
   "file_extension": ".py",
   "mimetype": "text/x-python",
   "name": "python",
   "nbconvert_exporter": "python",
   "pygments_lexer": "ipython3",
   "version": "3.12.3"
  }
 },
 "nbformat": 4,
 "nbformat_minor": 5
}
